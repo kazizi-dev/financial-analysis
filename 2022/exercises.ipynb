{
 "cells": [
  {
   "cell_type": "markdown",
   "id": "6dcbd49e",
   "metadata": {},
   "source": [
    "# Day 1"
   ]
  },
  {
   "cell_type": "markdown",
   "id": "3440aad0",
   "metadata": {},
   "source": [
    "### Maps with lambda expressions"
   ]
  },
  {
   "cell_type": "code",
   "execution_count": 11,
   "id": "26ce74a4",
   "metadata": {},
   "outputs": [],
   "source": [
    "def times_two(v):\n",
    "    return v * 2"
   ]
  },
  {
   "cell_type": "code",
   "execution_count": 4,
   "id": "9663b388",
   "metadata": {},
   "outputs": [],
   "source": [
    "seq = [1,2,3,4,5]"
   ]
  },
  {
   "cell_type": "code",
   "execution_count": 12,
   "id": "55682bd1",
   "metadata": {},
   "outputs": [
    {
     "data": {
      "text/plain": [
       "[2, 4, 6, 8, 10]"
      ]
     },
     "execution_count": 12,
     "metadata": {},
     "output_type": "execute_result"
    }
   ],
   "source": [
    "list(map(times_two, seq))"
   ]
  },
  {
   "cell_type": "code",
   "execution_count": 17,
   "id": "46e568b1",
   "metadata": {},
   "outputs": [
    {
     "data": {
      "text/plain": [
       "[2, 4, 6, 8, 10]"
      ]
     },
     "execution_count": 17,
     "metadata": {},
     "output_type": "execute_result"
    }
   ],
   "source": [
    "list(map(lambda num:num*2,seq))"
   ]
  },
  {
   "cell_type": "markdown",
   "id": "60889057",
   "metadata": {},
   "source": [
    "### Filter with lambda expressions"
   ]
  },
  {
   "cell_type": "code",
   "execution_count": 14,
   "id": "8b9e1d3a",
   "metadata": {},
   "outputs": [],
   "source": [
    "def is_even(num):\n",
    "    return num%2 == 0"
   ]
  },
  {
   "cell_type": "code",
   "execution_count": 16,
   "id": "03d21054",
   "metadata": {},
   "outputs": [
    {
     "data": {
      "text/plain": [
       "[2, 4]"
      ]
     },
     "execution_count": 16,
     "metadata": {},
     "output_type": "execute_result"
    }
   ],
   "source": [
    "list(filter(is_even,seq))"
   ]
  },
  {
   "cell_type": "code",
   "execution_count": 21,
   "id": "b8d996e4",
   "metadata": {},
   "outputs": [
    {
     "data": {
      "text/plain": [
       "[2, 4]"
      ]
     },
     "execution_count": 21,
     "metadata": {},
     "output_type": "execute_result"
    }
   ],
   "source": [
    "list(filter(lambda num:num%2 == 0, seq))"
   ]
  },
  {
   "cell_type": "markdown",
   "id": "bdcff2b9",
   "metadata": {},
   "source": [
    "### Task #1\n",
    "Given price = 300 , use python to figure out the square root of the price."
   ]
  },
  {
   "cell_type": "code",
   "execution_count": 26,
   "id": "905ff2de",
   "metadata": {},
   "outputs": [],
   "source": [
    "import math"
   ]
  },
  {
   "cell_type": "code",
   "execution_count": 32,
   "id": "d38e168f",
   "metadata": {},
   "outputs": [
    {
     "data": {
      "text/plain": [
       "17.320508075688775"
      ]
     },
     "execution_count": 32,
     "metadata": {},
     "output_type": "execute_result"
    }
   ],
   "source": [
    "price = 300\n",
    "math.sqrt(300)"
   ]
  },
  {
   "cell_type": "markdown",
   "id": "9909cb5c",
   "metadata": {},
   "source": [
    "### Task #2\n",
    "Given the string:  `stock_index = \"SP500\"`.\n",
    "Grab '500' from the string using indexing."
   ]
  },
  {
   "cell_type": "code",
   "execution_count": 35,
   "id": "8d22a025",
   "metadata": {},
   "outputs": [
    {
     "data": {
      "text/plain": [
       "'500'"
      ]
     },
     "execution_count": 35,
     "metadata": {},
     "output_type": "execute_result"
    }
   ],
   "source": [
    "stock_index = \"SP500\"\n",
    "stock_index[2:]"
   ]
  },
  {
   "cell_type": "markdown",
   "id": "242dde1d",
   "metadata": {},
   "source": [
    "### Task #3\n",
    "\n",
    "** Given the variables:**\n",
    "\n",
    "`stock_index = \"SP500\"`\n",
    "\n",
    "``price = 300``\n",
    "\n",
    "** Use .format() to print the following string: **\n",
    "\n",
    "    The SP500 is at 300 today."
   ]
  },
  {
   "cell_type": "code",
   "execution_count": 38,
   "id": "b2e926b3",
   "metadata": {},
   "outputs": [
    {
     "data": {
      "text/plain": [
       "'The SP500 is at 300 today.'"
      ]
     },
     "execution_count": 38,
     "metadata": {},
     "output_type": "execute_result"
    }
   ],
   "source": [
    "\"The {} is at {} today.\".format(stock_index,price)"
   ]
  },
  {
   "cell_type": "markdown",
   "id": "1fb8e3cf",
   "metadata": {},
   "source": [
    "### Task #4\n",
    "\n",
    "** Given the variable of a nested dictionary with nested lists: **\n",
    "\n",
    "    stock_info = {'sp500':{'today':300,'yesterday': 250}, 'info':['Time',[24,7,365]]}\n",
    "    \n",
    "** Use indexing and key calls to grab the following items:**\n",
    "\n",
    "* Yesterday's SP500 price (250)\n",
    "* The number 365 nested inside a list nested inside the 'info' key."
   ]
  },
  {
   "cell_type": "code",
   "execution_count": 41,
   "id": "9d584981",
   "metadata": {},
   "outputs": [],
   "source": [
    "stock_info = {'sp500':{'today':300,'yesterday': 250}, 'info':['Time',[24,7,365]]}"
   ]
  },
  {
   "cell_type": "code",
   "execution_count": 43,
   "id": "92753d9e",
   "metadata": {},
   "outputs": [
    {
     "data": {
      "text/plain": [
       "250"
      ]
     },
     "execution_count": 43,
     "metadata": {},
     "output_type": "execute_result"
    }
   ],
   "source": [
    "stock_info['sp500'].get('yesterday')"
   ]
  },
  {
   "cell_type": "code",
   "execution_count": 50,
   "id": "760be300",
   "metadata": {},
   "outputs": [
    {
     "data": {
      "text/plain": [
       "365"
      ]
     },
     "execution_count": 50,
     "metadata": {},
     "output_type": "execute_result"
    }
   ],
   "source": [
    "stock_info['info'][1][2]"
   ]
  },
  {
   "cell_type": "markdown",
   "id": "1f28dada",
   "metadata": {},
   "source": [
    "### Task #5\n",
    "\n",
    "** Given strings with this form where the last source value is always separated by two dashes -- **\n",
    "\n",
    "    \"PRICE:345.324:SOURCE--QUANDL\"\n",
    "    \n",
    "**Create a function called source_finder() that returns the source. For example, the above string passed into the function would return \"QUANDL\"**"
   ]
  },
  {
   "cell_type": "code",
   "execution_count": 79,
   "id": "4f7f17a5",
   "metadata": {},
   "outputs": [],
   "source": [
    "def source_finder(s):\n",
    "    return s.split('--')[-1]"
   ]
  },
  {
   "cell_type": "code",
   "execution_count": 80,
   "id": "75872f59",
   "metadata": {},
   "outputs": [
    {
     "data": {
      "text/plain": [
       "'QUANDL'"
      ]
     },
     "execution_count": 80,
     "metadata": {},
     "output_type": "execute_result"
    }
   ],
   "source": [
    "source_finder(\"PRICE:345.324:SOURCE--QUANDL\")"
   ]
  },
  {
   "cell_type": "markdown",
   "id": "9c2d2dec",
   "metadata": {},
   "source": [
    "### Task #5\n",
    "\n",
    "** Create a function called price_finder that returns True if the word 'price' is in a string. Your function should work even if 'Price' is capitalized or next to punctuation ('price!')  **"
   ]
  },
  {
   "cell_type": "code",
   "execution_count": 77,
   "id": "36483ddf",
   "metadata": {},
   "outputs": [],
   "source": [
    "def price_finder(s):\n",
    "    return 'price' in s.lower()"
   ]
  },
  {
   "cell_type": "code",
   "execution_count": 78,
   "id": "5ff657ad",
   "metadata": {},
   "outputs": [
    {
     "data": {
      "text/plain": [
       "True"
      ]
     },
     "execution_count": 78,
     "metadata": {},
     "output_type": "execute_result"
    }
   ],
   "source": [
    "price_finder('500 PRICE! ')"
   ]
  },
  {
   "cell_type": "markdown",
   "id": "22698d2d",
   "metadata": {},
   "source": [
    "### Task #6\n",
    "\n",
    "** Create a function called count_price() that counts the number of times the word \"price\" occurs in a string. Account for capitalization and if the word price is next to punctuation. **"
   ]
  },
  {
   "cell_type": "code",
   "execution_count": 86,
   "id": "fe32dace",
   "metadata": {},
   "outputs": [],
   "source": [
    "def count_price(s):\n",
    "    count = 0\n",
    "    for word in s.lower().split():\n",
    "        count = count + 1 if 'price' in word else count\n",
    "        \n",
    "    return count"
   ]
  },
  {
   "cell_type": "code",
   "execution_count": 88,
   "id": "d3ada0f6",
   "metadata": {},
   "outputs": [
    {
     "data": {
      "text/plain": [
       "3"
      ]
     },
     "execution_count": 88,
     "metadata": {},
     "output_type": "execute_result"
    }
   ],
   "source": [
    "s = 'Wow that is a nice price, very nice Price! I said price 3 times.'\n",
    "count_price(s)"
   ]
  },
  {
   "cell_type": "markdown",
   "id": "6f407ca9",
   "metadata": {},
   "source": [
    "### Task #7\n",
    "\n",
    "**Create a function called avg_price that takes in a list of stock price numbers and calculates the average (Sum of the numbers divided by the number of elements in the list). It should return a float. **"
   ]
  },
  {
   "cell_type": "code",
   "execution_count": 97,
   "id": "0008cb1d",
   "metadata": {},
   "outputs": [],
   "source": [
    "def avg_price(stock_prices):\n",
    "    prices = 0\n",
    "    for p in stock_prices:\n",
    "        prices += p\n",
    "    \n",
    "    return float(prices//len(stock_prices))\n",
    "    "
   ]
  },
  {
   "cell_type": "code",
   "execution_count": 98,
   "id": "226291c1",
   "metadata": {},
   "outputs": [
    {
     "data": {
      "text/plain": [
       "4.0"
      ]
     },
     "execution_count": 98,
     "metadata": {},
     "output_type": "execute_result"
    }
   ],
   "source": [
    "avg_price([3,4,5])"
   ]
  }
 ],
 "metadata": {
  "kernelspec": {
   "display_name": "Python 3 (ipykernel)",
   "language": "python",
   "name": "python3"
  },
  "language_info": {
   "codemirror_mode": {
    "name": "ipython",
    "version": 3
   },
   "file_extension": ".py",
   "mimetype": "text/x-python",
   "name": "python",
   "nbconvert_exporter": "python",
   "pygments_lexer": "ipython3",
   "version": "3.9.7"
  }
 },
 "nbformat": 4,
 "nbformat_minor": 5
}
